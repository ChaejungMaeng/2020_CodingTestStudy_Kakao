{
 "cells": [
  {
   "cell_type": "code",
   "execution_count": 1,
   "metadata": {},
   "outputs": [],
   "source": [
    "def solution(food_times, k):\n",
    "    food_times_list = [] \n",
    "    totalTime = 0\n",
    "\n",
    "    # 음식의 번호와 음식의 양을 저장 \n",
    "    for i in range(0, len(food_times)):\n",
    "        food_times_list.append([i, food_times[i]])\n",
    "        totalTime += food_times[i]\n",
    "    \n",
    "    # 전체 먹는 시간보다 k가 크면 계산 불가능 이므로 -1\n",
    "    if totalTime  <= k:\n",
    "        return -1\n",
    "    # 음식 양이 적은 순으로 정렬 \n",
    "    food_times_list.sort(key = lambda x:x[1])\n",
    "    # 제일 적은 음식을 길이에 곱한 시간 계산 \n",
    "    delTime = food_times_list[0][1]*len(food_times_list)\n",
    "    # i 사라진 음식의 개수\n",
    "    i = 1\n",
    "    # k 가 음식을 사라지게 하는 수보다 클 경우 아래 의 반복문 실행\n",
    "    while delTime < k: \n",
    "        k -= delTime\n",
    "        delTime = (food_times_list[i][1] - food_times_list[i-1][1])*(len(food_times_list)-i)\n",
    "        i += 1\n",
    "    # 인덱스 수순으로 배치\n",
    "    food_times_list = sorted(food_times_list[i-1:], key=lambda x: x[0])\n",
    "    # k번쨰 음식의 인덱스를 출력\n",
    "    return food_times_list[k%len(food_times_list)][0]+1\n"
   ]
  },
  {
   "cell_type": "code",
   "execution_count": 2,
   "metadata": {},
   "outputs": [
    {
     "name": "stdout",
     "output_type": "stream",
     "text": [
      "1\n"
     ]
    }
   ],
   "source": [
    "print(solution([3, 1, 2], 5))"
   ]
  },
  {
   "cell_type": "code",
   "execution_count": null,
   "metadata": {},
   "outputs": [],
   "source": []
  },
  {
   "cell_type": "code",
   "execution_count": null,
   "metadata": {},
   "outputs": [],
   "source": []
  },
  {
   "cell_type": "code",
   "execution_count": null,
   "metadata": {},
   "outputs": [],
   "source": []
  }
 ],
 "metadata": {
  "kernelspec": {
   "display_name": "Python 3",
   "language": "python",
   "name": "python3"
  },
  "language_info": {
   "codemirror_mode": {
    "name": "ipython",
    "version": 3
   },
   "file_extension": ".py",
   "mimetype": "text/x-python",
   "name": "python",
   "nbconvert_exporter": "python",
   "pygments_lexer": "ipython3",
   "version": "3.7.4"
  }
 },
 "nbformat": 4,
 "nbformat_minor": 2
}
