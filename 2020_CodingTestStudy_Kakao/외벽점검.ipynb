{
 "cells": [
  {
   "cell_type": "code",
   "execution_count": 1,
   "metadata": {},
   "outputs": [],
   "source": [
    "from itertools import permutations"
   ]
  },
  {
   "cell_type": "code",
   "execution_count": 2,
   "metadata": {},
   "outputs": [],
   "source": [
    "def solution(n, weak, dist):\n",
    "    answer = len(dist) + 1\n",
    "    weak_length = len(weak)\n",
    "    # 1 원형 문제를 해결하기 \n",
    "    for i in range(weak_length):\n",
    "        weak.append(weak[i]+n)\n",
    "\n",
    "    #2  가능한 모든 춟발지점 구하기 \n",
    "    for i in range(weak_length):\n",
    "        possible_starting_points = [weak[j] for j in range(i, i+weak_length)]\n",
    "\n",
    "        # 3 가능한 친구 순서 모두 구하기 \n",
    "        candidates = permutations(dist, len(dist))\n",
    "\n",
    "        # 4 모든 친구가 모든 출발점에서 출발하는 경우 필요한 친구의 수 세기\n",
    "        for friends in candidates:\n",
    "            # 사용한 친구 수\n",
    "            friend_number = 1 \n",
    "            # 사용한 친구의 인덱스\n",
    "            friend_idx = 0 \n",
    "            # 친구가 커버할 수 있는거리 \n",
    "            max_length = possible_starting_points[0] + friends[friend_idx]\n",
    "\n",
    "            for idx in range(weak_length):\n",
    "                # 다음에 가야할 좌표가 커버해야 하는 거리보다 멀리 있으면\n",
    "                if possible_starting_points[idx] > max_length:\n",
    "                    # 사람 수 늘리고 \n",
    "                    friend_number += 1 \n",
    "                    # 사람수 초과면 중지\n",
    "                    if friend_number > len(dist):\n",
    "                        break\n",
    "                    # 친구도 다음 친구로 이전 \n",
    "                    friend_idx += 1\n",
    "                    # 새로운 친구와 새로운 출발 지점으로 커버 가능 거리 갱신\n",
    "                    max_length = possible_starting_points[idx] + friends[friend_idx]\n",
    "            answer = min(answer, friend_number)\n",
    "    if answer > len(dist):\n",
    "        return -1\n",
    "    return answer\n"
   ]
  },
  {
   "cell_type": "code",
   "execution_count": 3,
   "metadata": {},
   "outputs": [
    {
     "name": "stdout",
     "output_type": "stream",
     "text": [
      "2\n"
     ]
    }
   ],
   "source": [
    "print(solution(12, [1, 5, 6, 10], [1, 2, 3, 4]))\n"
   ]
  },
  {
   "cell_type": "code",
   "execution_count": null,
   "metadata": {},
   "outputs": [],
   "source": [
    "#문제 해결 방법\n",
    "#1. 원형 문제를 해결 한다. => 길이를 두배로 늘리고 붙여 버리면 된다. \n",
    "#2. 가능한 모든 출발 지점을 구한다. \n",
    "#3. 가능한 모든 사용 인원을 구한다.\n",
    "#4. 가능한 모든 사용인원이 가능한 모든 출발지점에서 출발을 했을때 몇 명이 필요한지 센다. \n",
    "#5. 모든 경우가 지나고 제일 작은걸 정답으로 삼는다. \n",
    "#6. 만약 주어진 사람 수 보다 쓰여진 사람수가 많다면 불가능하단 말이므로 -1"
   ]
  }
 ],
 "metadata": {
  "kernelspec": {
   "display_name": "Python 3",
   "language": "python",
   "name": "python3"
  },
  "language_info": {
   "codemirror_mode": {
    "name": "ipython",
    "version": 3
   },
   "file_extension": ".py",
   "mimetype": "text/x-python",
   "name": "python",
   "nbconvert_exporter": "python",
   "pygments_lexer": "ipython3",
   "version": "3.7.4"
  }
 },
 "nbformat": 4,
 "nbformat_minor": 2
}
