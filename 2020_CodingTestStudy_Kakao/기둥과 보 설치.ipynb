{
 "cells": [
  {
   "cell_type": "code",
   "execution_count": 1,
   "metadata": {},
   "outputs": [],
   "source": [
    "def check(ans):\n",
    "    for x, y, what in ans:\n",
    "        # 기둥\n",
    "        # 1. 바닥 위에 있어야\n",
    "        # 2. 보의 한쪽 끝 부분 위에 있어야\n",
    "        # 3. 다른 기둥 위에 있어야\n",
    "        if what == 0:\n",
    "            if y == 0 or [x-1, y, 1] in ans or [x, y, 1] in ans or [x, y-1, 0] in ans:\n",
    "                continue\n",
    "            else:\n",
    "                return False\n",
    "        # 보\n",
    "        # 1. 한쪽 끝 부분이 기둥 위에 있어야\n",
    "        # 2. 양쪽 끝 부분이 다른 보와 동시에 연결\n",
    "        elif what == 1:\n",
    "            if [x, y-1, 0] in ans or [x+1, y-1, 0] in ans or ([x-1, y, 1] in ans and [x+1, y, 1] in ans):\n",
    "                continue\n",
    "            else:\n",
    "                return False\n",
    "    return True\n"
   ]
  },
  {
   "cell_type": "code",
   "execution_count": 7,
   "metadata": {},
   "outputs": [],
   "source": [
    "\n",
    "def solution(n, build_frame):\n",
    "    answer = []\n",
    "\n",
    "    for f in build_frame:\n",
    "        x, y, what, how = f\n",
    "\n",
    "        if how == 1:  # 설치\n",
    "            answer.append([x, y, what])\n",
    "            if check(answer) is False:\n",
    "                answer.remove([x, y, what])\n",
    "        else:  # 삭제\n",
    "            answer.remove([x, y, what])\n",
    "            if check(answer) is False:\n",
    "                answer.append([x, y, what])\n",
    "\n",
    "    answer.sort()\n",
    "    \n",
    "    return answer\n"
   ]
  },
  {
   "cell_type": "code",
   "execution_count": null,
   "metadata": {
    "scrolled": true
   },
   "outputs": [],
   "source": []
  },
  {
   "cell_type": "code",
   "execution_count": null,
   "metadata": {},
   "outputs": [],
   "source": []
  }
 ],
 "metadata": {
  "kernelspec": {
   "display_name": "Python 3",
   "language": "python",
   "name": "python3"
  },
  "language_info": {
   "codemirror_mode": {
    "name": "ipython",
    "version": 3
   },
   "file_extension": ".py",
   "mimetype": "text/x-python",
   "name": "python",
   "nbconvert_exporter": "python",
   "pygments_lexer": "ipython3",
   "version": "3.7.4"
  }
 },
 "nbformat": 4,
 "nbformat_minor": 2
}
