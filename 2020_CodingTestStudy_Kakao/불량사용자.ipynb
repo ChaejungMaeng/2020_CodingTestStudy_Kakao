{
 "cells": [
  {
   "cell_type": "code",
   "execution_count": 13,
   "metadata": {},
   "outputs": [],
   "source": [
    "def solution(user_id, banned_id):\n",
    "    answer = set()\n",
    "    ban_length = len(banned_id)\n",
    "    user_length = len(user_id)\n",
    "    #벤길이과 유저길이가 같다면 경우의 수는 1개라고 리턴\n",
    "    if ban_length == user_length:\n",
    "        return 1\n",
    "    #걸린 유저 체크용\n",
    "    use_user = [1 for _ in range(user_length)]\n",
    "    #사용된 벤유저 체크용\n",
    "    use_ban = [1 for _ in range(ban_length)]\n",
    "    #dfs를 이용하여 경우의 수를 검사\n",
    "    stack = []\n",
    "    #첫 시작은 0부터이다.\n",
    "    stack.append([0, use_user, use_ban])\n",
    "    #스택이 빌때까지 반복\n",
    "    while stack:\n",
    "        #스택에서 데이터를 꺼내 매칭\n",
    "        idx, use_user, use_ban = stack.pop()\n",
    "        #모든 벤유저를 찾았다면 정답에 추가\n",
    "        #중복을 방지하기 위해 셋구조에 추가\n",
    "        if idx == ban_length:\n",
    "            temp = []\n",
    "            for i in range(user_length):\n",
    "                if not use_user[i]: temp.append(user_id[i])\n",
    "            if temp: answer.add(tuple(temp))\n",
    "        #벤유저와 모든 유저를 반복해서 돈다.\n",
    "        for i in range(ban_length):\n",
    "            #체크한 벤유저가 아니라면\n",
    "            if use_ban[i] : \n",
    "                for j in range(user_length):\n",
    "                    # 사용한 유저가 아니어야 하고, 벤유저아이디 길어와 유저아이디 길이가 같아야 한다.\n",
    "                    if use_user[j] and len(banned_id[i]) == len(user_id[j]):\n",
    "                        #반복문을 돌면서 둘이 매칭되는지 확인한다. * 인경우 넘어간다.\n",
    "                        for k in range(len(user_id[j])):\n",
    "                            if user_id[j][k] != banned_id[i][k] and banned_id[i][k] != '*':\n",
    "                                break\n",
    "                        #break가 걸리지 않았다면\n",
    "                        else:\n",
    "                            #유저와 벤유저 모드 체크하고\n",
    "                            use_user[j] = 0\n",
    "                            use_ban[i] = 0\n",
    "                            #스택에 추가한다.\n",
    "                            stack.append([idx+1, use_user[:], use_ban[:]])\n",
    "                            #체크한것을 해제\n",
    "                            use_user[j] = 1\n",
    "                            use_ban[i] = 1\n",
    "    #set의 길이가 경우의 수이다.\n",
    "    return len(answer)\n",
    " "
   ]
  },
  {
   "cell_type": "code",
   "execution_count": 14,
   "metadata": {},
   "outputs": [],
   "source": [
    "users_id = [\n",
    "    [\"frodo\", \"fradi\", \"crodo\", \"abc123\", \"frodoc\"],\n",
    "    [\"frodo\", \"fradi\", \"crodo\", \"abc123\", \"frodoc\"],\n",
    "    [\"frodo\", \"fradi\", \"crodo\", \"abc123\", \"frodoc\"]\n",
    "]\n",
    " \n",
    "banned_id = [\n",
    "    [\"fr*d*\", \"abc1**\"],\n",
    "    [\"*rodo\", \"*rodo\", \"******\"],\n",
    "    [\"fr*d*\", \"*rodo\", \"******\", \"******\"]\n",
    "]"
   ]
  },
  {
   "cell_type": "code",
   "execution_count": 15,
   "metadata": {},
   "outputs": [],
   "source": [
    "result = [2, 2, 3]"
   ]
  },
  {
   "cell_type": "code",
   "execution_count": 16,
   "metadata": {},
   "outputs": [
    {
     "name": "stdout",
     "output_type": "stream",
     "text": [
      "정답\n",
      "정답\n",
      "정답\n"
     ]
    }
   ],
   "source": [
    "for i in range(3):\n",
    "    answer = solution(users_id[i], banned_id[i])\n",
    "    if answer == result[i]:\n",
    "        print('정답')\n",
    "    else:\n",
    "        print('틀림')"
   ]
  },
  {
   "cell_type": "code",
   "execution_count": null,
   "metadata": {},
   "outputs": [],
   "source": [
    "#출처 : https://mungto.tistory.com/201"
   ]
  }
 ],
 "metadata": {
  "kernelspec": {
   "display_name": "Python 3",
   "language": "python",
   "name": "python3"
  },
  "language_info": {
   "codemirror_mode": {
    "name": "ipython",
    "version": 3
   },
   "file_extension": ".py",
   "mimetype": "text/x-python",
   "name": "python",
   "nbconvert_exporter": "python",
   "pygments_lexer": "ipython3",
   "version": "3.7.4"
  }
 },
 "nbformat": 4,
 "nbformat_minor": 2
}
