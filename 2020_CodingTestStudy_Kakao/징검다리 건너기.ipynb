{
 "cells": [
  {
   "cell_type": "code",
   "execution_count": 1,
   "metadata": {},
   "outputs": [],
   "source": [
    "from collections import deque"
   ]
  },
  {
   "cell_type": "code",
   "execution_count": 2,
   "metadata": {},
   "outputs": [],
   "source": [
    "def check(stones,k, jump):\n",
    "    temp = k\n",
    "    for stone in stones:\n",
    "        if stone < jump:\n",
    "            temp -= 1\n",
    "        else:\n",
    "            temp = k\n",
    "        #각 돌이 예측값 jump보다 작은게 k번 연속으로 나오면\n",
    "        if temp == 0:\n",
    "            return False\n",
    "    return True"
   ]
  },
  {
   "cell_type": "code",
   "execution_count": 3,
   "metadata": {},
   "outputs": [],
   "source": [
    "def solution(stones, k):\n",
    "    left = 0\n",
    "    right = 200000000\n",
    "    while left <= right:\n",
    "        jump = (left + right)//2\n",
    "        print(left, jump, right)\n",
    "        \n",
    "        canJump = check(stones,k,jump)\n",
    "\n",
    "        if canJump:\n",
    "            answer = jump\n",
    "            left = jump + 1\n",
    "        else:\n",
    "            right = jump - 1\n",
    "\n",
    "    #print(answer)\n",
    "    return answer\n"
   ]
  },
  {
   "cell_type": "code",
   "execution_count": 4,
   "metadata": {},
   "outputs": [
    {
     "name": "stdout",
     "output_type": "stream",
     "text": [
      "3\n",
      "2 4 5 3 2 1 4 2 5 1\n",
      "0 100000000 200000000\n",
      "0 49999999 99999999\n",
      "0 24999999 49999998\n",
      "0 12499999 24999998\n",
      "0 6249999 12499998\n",
      "0 3124999 6249998\n",
      "0 1562499 3124998\n",
      "0 781249 1562498\n",
      "0 390624 781248\n",
      "0 195311 390623\n",
      "0 97655 195310\n",
      "0 48827 97654\n",
      "0 24413 48826\n",
      "0 12206 24412\n",
      "0 6102 12205\n",
      "0 3050 6101\n",
      "0 1524 3049\n",
      "0 761 1523\n",
      "0 380 760\n",
      "0 189 379\n",
      "0 94 188\n",
      "0 46 93\n",
      "0 22 45\n",
      "0 10 21\n",
      "0 4 9\n",
      "0 1 3\n",
      "2 2 3\n",
      "3 3 3\n"
     ]
    },
    {
     "data": {
      "text/plain": [
       "3"
      ]
     },
     "execution_count": 4,
     "metadata": {},
     "output_type": "execute_result"
    }
   ],
   "source": [
    "K = int(input())\n",
    "stones = list(map(int, input().split()))\n",
    "solution(stones, K)"
   ]
  },
  {
   "cell_type": "code",
   "execution_count": null,
   "metadata": {},
   "outputs": [],
   "source": []
  }
 ],
 "metadata": {
  "kernelspec": {
   "display_name": "Python 3",
   "language": "python",
   "name": "python3"
  },
  "language_info": {
   "codemirror_mode": {
    "name": "ipython",
    "version": 3
   },
   "file_extension": ".py",
   "mimetype": "text/x-python",
   "name": "python",
   "nbconvert_exporter": "python",
   "pygments_lexer": "ipython3",
   "version": "3.7.4"
  }
 },
 "nbformat": 4,
 "nbformat_minor": 2
}
